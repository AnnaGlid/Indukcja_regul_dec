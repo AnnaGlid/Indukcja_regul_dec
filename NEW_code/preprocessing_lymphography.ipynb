{
 "cells": [
  {
   "cell_type": "code",
   "execution_count": 5,
   "id": "148768a2",
   "metadata": {},
   "outputs": [],
   "source": [
    "import pandas as pd\n",
    "import os"
   ]
  },
  {
   "cell_type": "markdown",
   "id": "ff06b9d1",
   "metadata": {},
   "source": [
    "Wczytanie danych"
   ]
  },
  {
   "cell_type": "code",
   "execution_count": 23,
   "id": "39d7f9ba",
   "metadata": {},
   "outputs": [],
   "source": [
    "attributes = {\n",
    "    'class': ['normal find', 'metastases', 'malign lymph', 'fibrosis'],\n",
    "    'lymphatics': ['normal', 'arched', 'deformed', 'displaced'],\n",
    "    'block of affere': ['no', 'yes'],\n",
    "    'bl. of lymph. c': ['no', 'yes'],\n",
    "    'bl. of lymph. s': ['no', 'yes'],\n",
    "    'by pass': ['no', 'yes'],\n",
    "    'extravasates': ['no', 'yes'],\n",
    "    'regeneration of': ['no', 'yes'],\n",
    "    'early uptake in': ['no', 'yes'],\n",
    "   'lym.nodes dimin': [0, 1, 2, 3],\n",
    "   'lym.nodes enlar': [1, 2, 3, 4],\n",
    "   'changes in lym.': ['bean', 'oval', 'round'],\n",
    "   'defect in node': ['no', 'lacunar', 'lac. marginal', 'lac. central'],\n",
    "   'changes in node': ['no', 'lacunar', 'lac. margin', 'lac. central'],\n",
    "   'changes in stru': ['no', 'grainy', 'drop-like', 'coarse', 'diluted', 'reticular', 'stripped', 'faint'],\n",
    "   'special forms': ['no', 'chalices', 'vesicles'],\n",
    "   'dislocation of': ['no', 'yes'],\n",
    "   'exclusion of no': ['no', 'yes'],\n",
    "   'no. of nodes in': ['0-9', '10-19', '20-29', '30-39', '40-49', '50-59', '60-69', '>=70']\n",
    "}"
   ]
  },
  {
   "cell_type": "code",
   "execution_count": 24,
   "id": "0856ed87",
   "metadata": {},
   "outputs": [],
   "source": [
    "columns = list(attributes)\n",
    "cwd = os.path.abspath('')\n",
    "data_numbers = pd.read_csv(fr'{cwd}\\data\\lymp\\lymphography.csv', names = columns)"
   ]
  },
  {
   "cell_type": "code",
   "execution_count": 45,
   "id": "508843fa",
   "metadata": {},
   "outputs": [],
   "source": [
    "data = data_numbers.copy()\n",
    "for attribute, vals in attributes.items():\n",
    "    # print(f'{attribute}: {vals}\\n{set(data[attribute].values)}\\n')\n",
    "    for idx, val in enumerate(vals):\n",
    "        data[attribute] = data[attribute].replace(idx+1, val)\n"
   ]
  },
  {
   "cell_type": "code",
   "execution_count": 46,
   "id": "18fa87ca",
   "metadata": {},
   "outputs": [
    {
     "data": {
      "text/html": [
       "<div>\n",
       "<style scoped>\n",
       "    .dataframe tbody tr th:only-of-type {\n",
       "        vertical-align: middle;\n",
       "    }\n",
       "\n",
       "    .dataframe tbody tr th {\n",
       "        vertical-align: top;\n",
       "    }\n",
       "\n",
       "    .dataframe thead th {\n",
       "        text-align: right;\n",
       "    }\n",
       "</style>\n",
       "<table border=\"1\" class=\"dataframe\">\n",
       "  <thead>\n",
       "    <tr style=\"text-align: right;\">\n",
       "      <th></th>\n",
       "      <th>class</th>\n",
       "      <th>lymphatics</th>\n",
       "      <th>block of affere</th>\n",
       "      <th>bl. of lymph. c</th>\n",
       "      <th>bl. of lymph. s</th>\n",
       "      <th>by pass</th>\n",
       "      <th>extravasates</th>\n",
       "      <th>regeneration of</th>\n",
       "      <th>early uptake in</th>\n",
       "      <th>lym.nodes dimin</th>\n",
       "      <th>lym.nodes enlar</th>\n",
       "      <th>changes in lym.</th>\n",
       "      <th>defect in node</th>\n",
       "      <th>changes in node</th>\n",
       "      <th>changes in stru</th>\n",
       "      <th>special forms</th>\n",
       "      <th>dislocation of</th>\n",
       "      <th>exclusion of no</th>\n",
       "      <th>no. of nodes in</th>\n",
       "    </tr>\n",
       "  </thead>\n",
       "  <tbody>\n",
       "    <tr>\n",
       "      <th>0</th>\n",
       "      <td>malign lymph</td>\n",
       "      <td>displaced</td>\n",
       "      <td>yes</td>\n",
       "      <td>no</td>\n",
       "      <td>no</td>\n",
       "      <td>no</td>\n",
       "      <td>no</td>\n",
       "      <td>no</td>\n",
       "      <td>yes</td>\n",
       "      <td>0</td>\n",
       "      <td>2</td>\n",
       "      <td>oval</td>\n",
       "      <td>lacunar</td>\n",
       "      <td>lac. central</td>\n",
       "      <td>faint</td>\n",
       "      <td>no</td>\n",
       "      <td>no</td>\n",
       "      <td>yes</td>\n",
       "      <td>10-19</td>\n",
       "    </tr>\n",
       "    <tr>\n",
       "      <th>1</th>\n",
       "      <td>metastases</td>\n",
       "      <td>deformed</td>\n",
       "      <td>yes</td>\n",
       "      <td>no</td>\n",
       "      <td>no</td>\n",
       "      <td>yes</td>\n",
       "      <td>yes</td>\n",
       "      <td>no</td>\n",
       "      <td>yes</td>\n",
       "      <td>0</td>\n",
       "      <td>3</td>\n",
       "      <td>round</td>\n",
       "      <td>lacunar</td>\n",
       "      <td>lac. margin</td>\n",
       "      <td>coarse</td>\n",
       "      <td>chalices</td>\n",
       "      <td>yes</td>\n",
       "      <td>yes</td>\n",
       "      <td>10-19</td>\n",
       "    </tr>\n",
       "    <tr>\n",
       "      <th>2</th>\n",
       "      <td>malign lymph</td>\n",
       "      <td>deformed</td>\n",
       "      <td>yes</td>\n",
       "      <td>yes</td>\n",
       "      <td>yes</td>\n",
       "      <td>yes</td>\n",
       "      <td>yes</td>\n",
       "      <td>yes</td>\n",
       "      <td>yes</td>\n",
       "      <td>0</td>\n",
       "      <td>4</td>\n",
       "      <td>round</td>\n",
       "      <td>lac. marginal</td>\n",
       "      <td>lac. central</td>\n",
       "      <td>faint</td>\n",
       "      <td>vesicles</td>\n",
       "      <td>yes</td>\n",
       "      <td>yes</td>\n",
       "      <td>60-69</td>\n",
       "    </tr>\n",
       "    <tr>\n",
       "      <th>3</th>\n",
       "      <td>malign lymph</td>\n",
       "      <td>deformed</td>\n",
       "      <td>no</td>\n",
       "      <td>no</td>\n",
       "      <td>no</td>\n",
       "      <td>no</td>\n",
       "      <td>yes</td>\n",
       "      <td>no</td>\n",
       "      <td>yes</td>\n",
       "      <td>0</td>\n",
       "      <td>3</td>\n",
       "      <td>round</td>\n",
       "      <td>lac. central</td>\n",
       "      <td>lac. central</td>\n",
       "      <td>coarse</td>\n",
       "      <td>vesicles</td>\n",
       "      <td>no</td>\n",
       "      <td>yes</td>\n",
       "      <td>50-59</td>\n",
       "    </tr>\n",
       "    <tr>\n",
       "      <th>4</th>\n",
       "      <td>metastases</td>\n",
       "      <td>deformed</td>\n",
       "      <td>no</td>\n",
       "      <td>no</td>\n",
       "      <td>no</td>\n",
       "      <td>no</td>\n",
       "      <td>no</td>\n",
       "      <td>no</td>\n",
       "      <td>no</td>\n",
       "      <td>0</td>\n",
       "      <td>2</td>\n",
       "      <td>oval</td>\n",
       "      <td>lac. central</td>\n",
       "      <td>lac. margin</td>\n",
       "      <td>diluted</td>\n",
       "      <td>no</td>\n",
       "      <td>yes</td>\n",
       "      <td>yes</td>\n",
       "      <td>0-9</td>\n",
       "    </tr>\n",
       "  </tbody>\n",
       "</table>\n",
       "</div>"
      ],
      "text/plain": [
       "          class lymphatics block of affere bl. of lymph. c bl. of lymph. s  \\\n",
       "0  malign lymph  displaced             yes              no              no   \n",
       "1    metastases   deformed             yes              no              no   \n",
       "2  malign lymph   deformed             yes             yes             yes   \n",
       "3  malign lymph   deformed              no              no              no   \n",
       "4    metastases   deformed              no              no              no   \n",
       "\n",
       "  by pass extravasates regeneration of early uptake in  lym.nodes dimin  \\\n",
       "0      no           no              no             yes                0   \n",
       "1     yes          yes              no             yes                0   \n",
       "2     yes          yes             yes             yes                0   \n",
       "3      no          yes              no             yes                0   \n",
       "4      no           no              no              no                0   \n",
       "\n",
       "   lym.nodes enlar changes in lym. defect in node changes in node  \\\n",
       "0                2            oval        lacunar    lac. central   \n",
       "1                3           round        lacunar     lac. margin   \n",
       "2                4           round  lac. marginal    lac. central   \n",
       "3                3           round   lac. central    lac. central   \n",
       "4                2            oval   lac. central     lac. margin   \n",
       "\n",
       "  changes in stru special forms dislocation of exclusion of no no. of nodes in  \n",
       "0           faint            no             no             yes           10-19  \n",
       "1          coarse      chalices            yes             yes           10-19  \n",
       "2           faint      vesicles            yes             yes           60-69  \n",
       "3          coarse      vesicles             no             yes           50-59  \n",
       "4         diluted            no            yes             yes             0-9  "
      ]
     },
     "execution_count": 46,
     "metadata": {},
     "output_type": "execute_result"
    }
   ],
   "source": [
    "data.head()"
   ]
  },
  {
   "cell_type": "code",
   "execution_count": 47,
   "id": "cd73cf44",
   "metadata": {},
   "outputs": [
    {
     "data": {
      "text/plain": [
       "([<matplotlib.patches.Wedge at 0x1f58cad8230>,\n",
       "  <matplotlib.patches.Wedge at 0x1f58cad8170>,\n",
       "  <matplotlib.patches.Wedge at 0x1f58cad8a40>,\n",
       "  <matplotlib.patches.Wedge at 0x1f58cad80b0>],\n",
       " [Text(-0.16284694432475802, 1.0878790708181167, 'metastases - 81 instances'),\n",
       "  Text(0.023347907752630587, -1.0997521880876504, 'malign lymph - 61 instances'),\n",
       "  Text(1.084177495178901, -0.1859009385334144, 'fibrosis - 4 instances'),\n",
       "  Text(1.0990088614112208, -0.046685356800739694, 'normal find - 2 instances')])"
      ]
     },
     "execution_count": 47,
     "metadata": {},
     "output_type": "execute_result"
    },
    {
     "data": {
      "image/png": "[encoded data removed]",
      "text/plain": [
       "<Figure size 640x480 with 1 Axes>"
      ]
     },
     "metadata": {},
     "output_type": "display_data"
    }
   ],
   "source": [
    "import matplotlib.pyplot as plt\n",
    "counted = data['class'].value_counts()\n",
    "names = []\n",
    "numbers = []\n",
    "for name, number in counted.items():\n",
    "    names.append(f'{name} - {number} instances')\n",
    "    numbers.append(number)\n",
    "plt.pie(numbers, labels = names)\n"
   ]
  },
  {
   "cell_type": "markdown",
   "id": "2ac80453",
   "metadata": {},
   "source": [
    "Usunięcie klas fibrosis i normal find?"
   ]
  },
  {
   "cell_type": "markdown",
   "id": "34aae1a9",
   "metadata": {},
   "source": [
    "Usunięcie niespójności"
   ]
  },
  {
   "cell_type": "code",
   "execution_count": 48,
   "id": "14f819c0",
   "metadata": {},
   "outputs": [],
   "source": [
    "conditional_df = data.drop(columns=['class'])"
   ]
  },
  {
   "cell_type": "code",
   "execution_count": 49,
   "id": "ed956459",
   "metadata": {},
   "outputs": [
    {
     "data": {
      "text/plain": [
       "False"
      ]
     },
     "execution_count": 49,
     "metadata": {},
     "output_type": "execute_result"
    }
   ],
   "source": [
    "conditional_df.duplicated().any()"
   ]
  },
  {
   "cell_type": "markdown",
   "id": "6927a956",
   "metadata": {},
   "source": [
    "Brak niespójności"
   ]
  },
  {
   "cell_type": "code",
   "execution_count": 53,
   "id": "1e614cc9",
   "metadata": {},
   "outputs": [],
   "source": [
    "for col in data.columns:\n",
    "    unique_values_num = data[col].nunique()\n",
    "    if unique_values_num < 2:\n",
    "        print(len(unique_values_num))\n",
    "        print()\n",
    "    # print(f'Col {col}: {unique_values_num}- {set(list(data[col].values))}')\n"
   ]
  },
  {
   "cell_type": "code",
   "execution_count": 54,
   "id": "da6d5991",
   "metadata": {},
   "outputs": [],
   "source": [
    "from sklearn.preprocessing import OneHotEncoder\n",
    "\n",
    "encoder = OneHotEncoder(sparse_output=False)\n",
    "conditional_columns = [col for col in data.columns if col != 'class']\n",
    "one_hot_encoded = encoder.fit_transform(data[conditional_columns])\n",
    "one_hot_df = pd.DataFrame(one_hot_encoded, \n",
    "                            columns=encoder.get_feature_names_out(conditional_columns), \n",
    "                            index=data.index)\n",
    "data_encoded = pd.concat([data.drop(conditional_columns, axis=1), one_hot_df], axis=1)"
   ]
  },
  {
   "cell_type": "code",
   "execution_count": 55,
   "id": "8c698e95",
   "metadata": {},
   "outputs": [
    {
     "data": {
      "text/html": [
       "<div>\n",
       "<style scoped>\n",
       "    .dataframe tbody tr th:only-of-type {\n",
       "        vertical-align: middle;\n",
       "    }\n",
       "\n",
       "    .dataframe tbody tr th {\n",
       "        vertical-align: top;\n",
       "    }\n",
       "\n",
       "    .dataframe thead th {\n",
       "        text-align: right;\n",
       "    }\n",
       "</style>\n",
       "<table border=\"1\" class=\"dataframe\">\n",
       "  <thead>\n",
       "    <tr style=\"text-align: right;\">\n",
       "      <th></th>\n",
       "      <th>class</th>\n",
       "      <th>lymphatics_arched</th>\n",
       "      <th>lymphatics_deformed</th>\n",
       "      <th>lymphatics_displaced</th>\n",
       "      <th>lymphatics_normal</th>\n",
       "      <th>block of affere_no</th>\n",
       "      <th>block of affere_yes</th>\n",
       "      <th>bl. of lymph. c_no</th>\n",
       "      <th>bl. of lymph. c_yes</th>\n",
       "      <th>bl. of lymph. s_no</th>\n",
       "      <th>...</th>\n",
       "      <th>exclusion of no_no</th>\n",
       "      <th>exclusion of no_yes</th>\n",
       "      <th>no. of nodes in_0-9</th>\n",
       "      <th>no. of nodes in_10-19</th>\n",
       "      <th>no. of nodes in_20-29</th>\n",
       "      <th>no. of nodes in_30-39</th>\n",
       "      <th>no. of nodes in_40-49</th>\n",
       "      <th>no. of nodes in_50-59</th>\n",
       "      <th>no. of nodes in_60-69</th>\n",
       "      <th>no. of nodes in_&gt;=70</th>\n",
       "    </tr>\n",
       "  </thead>\n",
       "  <tbody>\n",
       "    <tr>\n",
       "      <th>0</th>\n",
       "      <td>malign lymph</td>\n",
       "      <td>0.0</td>\n",
       "      <td>0.0</td>\n",
       "      <td>1.0</td>\n",
       "      <td>0.0</td>\n",
       "      <td>0.0</td>\n",
       "      <td>1.0</td>\n",
       "      <td>1.0</td>\n",
       "      <td>0.0</td>\n",
       "      <td>1.0</td>\n",
       "      <td>...</td>\n",
       "      <td>0.0</td>\n",
       "      <td>1.0</td>\n",
       "      <td>0.0</td>\n",
       "      <td>1.0</td>\n",
       "      <td>0.0</td>\n",
       "      <td>0.0</td>\n",
       "      <td>0.0</td>\n",
       "      <td>0.0</td>\n",
       "      <td>0.0</td>\n",
       "      <td>0.0</td>\n",
       "    </tr>\n",
       "    <tr>\n",
       "      <th>1</th>\n",
       "      <td>metastases</td>\n",
       "      <td>0.0</td>\n",
       "      <td>1.0</td>\n",
       "      <td>0.0</td>\n",
       "      <td>0.0</td>\n",
       "      <td>0.0</td>\n",
       "      <td>1.0</td>\n",
       "      <td>1.0</td>\n",
       "      <td>0.0</td>\n",
       "      <td>1.0</td>\n",
       "      <td>...</td>\n",
       "      <td>0.0</td>\n",
       "      <td>1.0</td>\n",
       "      <td>0.0</td>\n",
       "      <td>1.0</td>\n",
       "      <td>0.0</td>\n",
       "      <td>0.0</td>\n",
       "      <td>0.0</td>\n",
       "      <td>0.0</td>\n",
       "      <td>0.0</td>\n",
       "      <td>0.0</td>\n",
       "    </tr>\n",
       "    <tr>\n",
       "      <th>2</th>\n",
       "      <td>malign lymph</td>\n",
       "      <td>0.0</td>\n",
       "      <td>1.0</td>\n",
       "      <td>0.0</td>\n",
       "      <td>0.0</td>\n",
       "      <td>0.0</td>\n",
       "      <td>1.0</td>\n",
       "      <td>0.0</td>\n",
       "      <td>1.0</td>\n",
       "      <td>0.0</td>\n",
       "      <td>...</td>\n",
       "      <td>0.0</td>\n",
       "      <td>1.0</td>\n",
       "      <td>0.0</td>\n",
       "      <td>0.0</td>\n",
       "      <td>0.0</td>\n",
       "      <td>0.0</td>\n",
       "      <td>0.0</td>\n",
       "      <td>0.0</td>\n",
       "      <td>1.0</td>\n",
       "      <td>0.0</td>\n",
       "    </tr>\n",
       "    <tr>\n",
       "      <th>3</th>\n",
       "      <td>malign lymph</td>\n",
       "      <td>0.0</td>\n",
       "      <td>1.0</td>\n",
       "      <td>0.0</td>\n",
       "      <td>0.0</td>\n",
       "      <td>1.0</td>\n",
       "      <td>0.0</td>\n",
       "      <td>1.0</td>\n",
       "      <td>0.0</td>\n",
       "      <td>1.0</td>\n",
       "      <td>...</td>\n",
       "      <td>0.0</td>\n",
       "      <td>1.0</td>\n",
       "      <td>0.0</td>\n",
       "      <td>0.0</td>\n",
       "      <td>0.0</td>\n",
       "      <td>0.0</td>\n",
       "      <td>0.0</td>\n",
       "      <td>1.0</td>\n",
       "      <td>0.0</td>\n",
       "      <td>0.0</td>\n",
       "    </tr>\n",
       "    <tr>\n",
       "      <th>4</th>\n",
       "      <td>metastases</td>\n",
       "      <td>0.0</td>\n",
       "      <td>1.0</td>\n",
       "      <td>0.0</td>\n",
       "      <td>0.0</td>\n",
       "      <td>1.0</td>\n",
       "      <td>0.0</td>\n",
       "      <td>1.0</td>\n",
       "      <td>0.0</td>\n",
       "      <td>1.0</td>\n",
       "      <td>...</td>\n",
       "      <td>0.0</td>\n",
       "      <td>1.0</td>\n",
       "      <td>1.0</td>\n",
       "      <td>0.0</td>\n",
       "      <td>0.0</td>\n",
       "      <td>0.0</td>\n",
       "      <td>0.0</td>\n",
       "      <td>0.0</td>\n",
       "      <td>0.0</td>\n",
       "      <td>0.0</td>\n",
       "    </tr>\n",
       "  </tbody>\n",
       "</table>\n",
       "<p>5 rows × 60 columns</p>\n",
       "</div>"
      ],
      "text/plain": [
       "          class  lymphatics_arched  lymphatics_deformed  lymphatics_displaced  \\\n",
       "0  malign lymph                0.0                  0.0                   1.0   \n",
       "1    metastases                0.0                  1.0                   0.0   \n",
       "2  malign lymph                0.0                  1.0                   0.0   \n",
       "3  malign lymph                0.0                  1.0                   0.0   \n",
       "4    metastases                0.0                  1.0                   0.0   \n",
       "\n",
       "   lymphatics_normal  block of affere_no  block of affere_yes  \\\n",
       "0                0.0                 0.0                  1.0   \n",
       "1                0.0                 0.0                  1.0   \n",
       "2                0.0                 0.0                  1.0   \n",
       "3                0.0                 1.0                  0.0   \n",
       "4                0.0                 1.0                  0.0   \n",
       "\n",
       "   bl. of lymph. c_no  bl. of lymph. c_yes  bl. of lymph. s_no  ...  \\\n",
       "0                 1.0                  0.0                 1.0  ...   \n",
       "1                 1.0                  0.0                 1.0  ...   \n",
       "2                 0.0                  1.0                 0.0  ...   \n",
       "3                 1.0                  0.0                 1.0  ...   \n",
       "4                 1.0                  0.0                 1.0  ...   \n",
       "\n",
       "   exclusion of no_no  exclusion of no_yes  no. of nodes in_0-9  \\\n",
       "0                 0.0                  1.0                  0.0   \n",
       "1                 0.0                  1.0                  0.0   \n",
       "2                 0.0                  1.0                  0.0   \n",
       "3                 0.0                  1.0                  0.0   \n",
       "4                 0.0                  1.0                  1.0   \n",
       "\n",
       "   no. of nodes in_10-19  no. of nodes in_20-29  no. of nodes in_30-39  \\\n",
       "0                    1.0                    0.0                    0.0   \n",
       "1                    1.0                    0.0                    0.0   \n",
       "2                    0.0                    0.0                    0.0   \n",
       "3                    0.0                    0.0                    0.0   \n",
       "4                    0.0                    0.0                    0.0   \n",
       "\n",
       "   no. of nodes in_40-49  no. of nodes in_50-59  no. of nodes in_60-69  \\\n",
       "0                    0.0                    0.0                    0.0   \n",
       "1                    0.0                    0.0                    0.0   \n",
       "2                    0.0                    0.0                    1.0   \n",
       "3                    0.0                    1.0                    0.0   \n",
       "4                    0.0                    0.0                    0.0   \n",
       "\n",
       "   no. of nodes in_>=70  \n",
       "0                   0.0  \n",
       "1                   0.0  \n",
       "2                   0.0  \n",
       "3                   0.0  \n",
       "4                   0.0  \n",
       "\n",
       "[5 rows x 60 columns]"
      ]
     },
     "execution_count": 55,
     "metadata": {},
     "output_type": "execute_result"
    }
   ],
   "source": [
    "data_encoded.head()"
   ]
  },
  {
   "cell_type": "code",
   "execution_count": 56,
   "id": "7623c377",
   "metadata": {},
   "outputs": [
    {
     "data": {
      "text/plain": [
       "148"
      ]
     },
     "execution_count": 56,
     "metadata": {},
     "output_type": "execute_result"
    }
   ],
   "source": [
    "len(data_encoded)"
   ]
  },
  {
   "cell_type": "code",
   "execution_count": 57,
   "id": "b3c91bf9",
   "metadata": {},
   "outputs": [],
   "source": [
    "data_encoded.drop_duplicates(inplace=True)"
   ]
  },
  {
   "cell_type": "code",
   "execution_count": 58,
   "id": "0a2c97b9",
   "metadata": {},
   "outputs": [
    {
     "data": {
      "text/plain": [
       "148"
      ]
     },
     "execution_count": 58,
     "metadata": {},
     "output_type": "execute_result"
    }
   ],
   "source": [
    "len(data_encoded)"
   ]
  },
  {
   "cell_type": "code",
   "execution_count": 59,
   "id": "ef1084c0",
   "metadata": {},
   "outputs": [],
   "source": [
    "data_encoded.to_csv(fr'{cwd}\\data\\lymp\\lymphography_preprocessed.csv', index=False)"
   ]
  },
  {
   "cell_type": "code",
   "execution_count": null,
   "id": "59d01010",
   "metadata": {},
   "outputs": [],
   "source": []
  }
 ],
 "metadata": {
  "kernelspec": {
   "display_name": "Python 3",
   "language": "python",
   "name": "python3"
  },
  "language_info": {
   "codemirror_mode": {
    "name": "ipython",
    "version": 3
   },
   "file_extension": ".py",
   "mimetype": "text/x-python",
   "name": "python",
   "nbconvert_exporter": "python",
   "pygments_lexer": "ipython3",
   "version": "3.12.0"
  }
 },
 "nbformat": 4,
 "nbformat_minor": 5
}
